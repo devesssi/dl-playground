{
  "nbformat": 4,
  "nbformat_minor": 0,
  "metadata": {
    "colab": {
      "provenance": [],
      "gpuType": "T4",
      "authorship_tag": "ABX9TyNBf3yMh6tUgccNoO9MZv6o",
      "include_colab_link": true
    },
    "kernelspec": {
      "name": "python3",
      "display_name": "Python 3"
    },
    "language_info": {
      "name": "python"
    },
    "accelerator": "GPU"
  },
  "cells": [
    {
      "cell_type": "markdown",
      "metadata": {
        "id": "view-in-github",
        "colab_type": "text"
      },
      "source": [
        "<a href=\"https://colab.research.google.com/github/devesssi/dl-playground/blob/main/day03_revision_exercises_docs_quickstart.ipynb\" target=\"_parent\"><img src=\"https://colab.research.google.com/assets/colab-badge.svg\" alt=\"Open In Colab\"/></a>"
      ]
    },
    {
      "cell_type": "code",
      "execution_count": null,
      "metadata": {
        "id": "un9AF-h_hp32"
      },
      "outputs": [],
      "source": [
        "import torch"
      ]
    },
    {
      "cell_type": "code",
      "source": [
        "!nvidia-smi\n",
        "# ! this is called bang and means run this cmd on cmdline"
      ],
      "metadata": {
        "colab": {
          "base_uri": "https://localhost:8080/"
        },
        "id": "I6exp_CriDhG",
        "outputId": "e04b452f-359e-45d4-c328-96205f0b4617"
      },
      "execution_count": null,
      "outputs": [
        {
          "output_type": "stream",
          "name": "stdout",
          "text": [
            "Sun Jun 22 10:30:11 2025       \n",
            "+-----------------------------------------------------------------------------------------+\n",
            "| NVIDIA-SMI 550.54.15              Driver Version: 550.54.15      CUDA Version: 12.4     |\n",
            "|-----------------------------------------+------------------------+----------------------+\n",
            "| GPU  Name                 Persistence-M | Bus-Id          Disp.A | Volatile Uncorr. ECC |\n",
            "| Fan  Temp   Perf          Pwr:Usage/Cap |           Memory-Usage | GPU-Util  Compute M. |\n",
            "|                                         |                        |               MIG M. |\n",
            "|=========================================+========================+======================|\n",
            "|   0  Tesla T4                       Off |   00000000:00:04.0 Off |                    0 |\n",
            "| N/A   38C    P0             27W /   70W |     150MiB /  15360MiB |      0%      Default |\n",
            "|                                         |                        |                  N/A |\n",
            "+-----------------------------------------+------------------------+----------------------+\n",
            "                                                                                         \n",
            "+-----------------------------------------------------------------------------------------+\n",
            "| Processes:                                                                              |\n",
            "|  GPU   GI   CI        PID   Type   Process name                              GPU Memory |\n",
            "|        ID   ID                                                               Usage      |\n",
            "|=========================================================================================|\n",
            "+-----------------------------------------------------------------------------------------+\n"
          ]
        }
      ]
    },
    {
      "cell_type": "markdown",
      "source": [
        "check for GPU acces using pytorch"
      ],
      "metadata": {
        "id": "G0H2_VhejzVG"
      }
    },
    {
      "cell_type": "code",
      "source": [
        "torch.cuda.is_available()"
      ],
      "metadata": {
        "colab": {
          "base_uri": "https://localhost:8080/"
        },
        "id": "JSvKxHJ3jb-J",
        "outputId": "1a3de30a-2614-4072-9e25-9fd6b8693d42"
      },
      "execution_count": null,
      "outputs": [
        {
          "output_type": "execute_result",
          "data": {
            "text/plain": [
              "True"
            ]
          },
          "metadata": {},
          "execution_count": 82
        }
      ]
    },
    {
      "cell_type": "markdown",
      "source": [
        "\n",
        "If the above outputs True, PyTorch can see and use the GPU, if it outputs False, it can't see the GPU and in that case, you'll have to go back through the installation steps.\n",
        "\n",
        "Now, let's say you wanted to setup your code so it ran on CPU or the GPU if it was available.\n",
        "\n",
        "That way, if you or someone decides to run your code, it'll work regardless of the computing device they're using.\n",
        "\n",
        "Let's create a device variable to store what kind of device is available."
      ],
      "metadata": {
        "id": "fnKm4J95k-ba"
      }
    },
    {
      "cell_type": "code",
      "source": [
        "# Set device type\n",
        "device = \"cuda\" if torch.cuda.is_available() else \"cpu\"\n",
        "device"
      ],
      "metadata": {
        "colab": {
          "base_uri": "https://localhost:8080/",
          "height": 36
        },
        "id": "dZ7Q7sgrj9gD",
        "outputId": "72155a69-1d22-4f82-ddbd-d66a9d9c13a2"
      },
      "execution_count": null,
      "outputs": [
        {
          "output_type": "execute_result",
          "data": {
            "text/plain": [
              "'cuda'"
            ],
            "application/vnd.google.colaboratory.intrinsic+json": {
              "type": "string"
            }
          },
          "metadata": {},
          "execution_count": 83
        }
      ]
    },
    {
      "cell_type": "code",
      "source": [
        "torch.cuda.device_count()"
      ],
      "metadata": {
        "colab": {
          "base_uri": "https://localhost:8080/"
        },
        "id": "OeGxyAV7lAhS",
        "outputId": "bd2e96a6-53b6-4727-98e3-86896d824acf"
      },
      "execution_count": null,
      "outputs": [
        {
          "output_type": "execute_result",
          "data": {
            "text/plain": [
              "1"
            ]
          },
          "metadata": {},
          "execution_count": 84
        }
      ]
    },
    {
      "cell_type": "markdown",
      "source": [],
      "metadata": {
        "id": "19fjHZbZnA_s"
      }
    },
    {
      "cell_type": "markdown",
      "source": [
        "Device-agnostic code refers to software or programming that is designed to function across various devices or platforms without requiring specific adaptations or modifications.\n",
        "always try to write device agnostic code\n",
        "\n",
        "\n",
        "The reason we want to run on the operations on gpu is because it is fsster then cpu"
      ],
      "metadata": {
        "id": "eKZC_RKZly2f"
      }
    },
    {
      "cell_type": "markdown",
      "source": [
        "\n",
        "\n",
        "\n",
        "\n",
        "# . Putting tensors (and models) on the GPU"
      ],
      "metadata": {
        "id": "51Vb2Hngm1kK"
      }
    },
    {
      "cell_type": "markdown",
      "source": [
        "You can put tensors (and models, we'll see this later) on a specific device by calling to(device) on them. Where device is the target device you'd like the tensor (or model) to go to.\n",
        "\n",
        "Why do this?\n",
        "\n",
        "GPUs offer far faster numerical computing than CPUs do and if a GPU isn't available, because of our device agnostic code (see above), it'll run on the CPU.\n",
        "\n",
        "Note: Putting a tensor on GPU using to(device) (e.g. some_tensor.to(device)) returns a copy of that tensor, e.g. the same tensor will be on CPU and GPU. To overwrite tensors, reassign them:\n",
        "\n",
        "some_tensor = some_tensor.to(device)\n",
        "\n",
        "Let's try creating a tensor and putting it on the GPU (if it's available)."
      ],
      "metadata": {
        "id": "QV_F73uWnHqN"
      }
    },
    {
      "cell_type": "code",
      "source": [
        "# Create tensor (default on CPU)\n",
        "tensor = torch.tensor([1, 2, 3])\n",
        "\n",
        "# Tensor not on GPU\n",
        "print(tensor, tensor.device)\n",
        "\n",
        "# Move tensor to GPU (if available)\n",
        "tensor_on_gpu = tensor.to(device)\n",
        "tensor_on_gpu"
      ],
      "metadata": {
        "colab": {
          "base_uri": "https://localhost:8080/"
        },
        "id": "qdXavkp_lAj8",
        "outputId": "6231ab39-a578-44cf-d440-f3c440fbcb6a"
      },
      "execution_count": null,
      "outputs": [
        {
          "output_type": "stream",
          "name": "stdout",
          "text": [
            "tensor([1, 2, 3]) cpu\n"
          ]
        },
        {
          "output_type": "execute_result",
          "data": {
            "text/plain": [
              "tensor([1, 2, 3], device='cuda:0')"
            ]
          },
          "metadata": {},
          "execution_count": 85
        }
      ]
    },
    {
      "cell_type": "markdown",
      "source": [
        "Notice the second tensor has device='cuda:0', this means it's stored on the 0th GPU available (GPUs are 0 indexed, if two GPUs were available, they'd be 'cuda:0' and 'cuda:1' respectively, up to 'cuda:n')."
      ],
      "metadata": {
        "id": "lyFUU_fjnlSs"
      }
    },
    {
      "cell_type": "markdown",
      "source": [
        "# Moving tensors back to the CPU"
      ],
      "metadata": {
        "id": "WDZTxxlSnrca"
      }
    },
    {
      "cell_type": "markdown",
      "source": [
        "What if we wanted to move the tensor back to CPU?\n",
        "\n",
        "For example, you'll want to do this if you want to interact with your tensors with NumPy (NumPy does not leverage the GPU).\n",
        "\n",
        "Let's try using the torch.Tensor.numpy() method on our tensor_on_gpu."
      ],
      "metadata": {
        "id": "LImHyfE2nyqz"
      }
    },
    {
      "cell_type": "code",
      "source": [
        "# If tensor is on GPU, can't transform it to NumPy (this will error)\n",
        "tensor_on_gpu.numpy()"
      ],
      "metadata": {
        "colab": {
          "base_uri": "https://localhost:8080/",
          "height": 158
        },
        "id": "R4JAJ11hnydZ",
        "outputId": "83cd918e-a470-4b84-f0bb-1dba12590331"
      },
      "execution_count": null,
      "outputs": [
        {
          "output_type": "error",
          "ename": "TypeError",
          "evalue": "can't convert cuda:0 device type tensor to numpy. Use Tensor.cpu() to copy the tensor to host memory first.",
          "traceback": [
            "\u001b[0;31m---------------------------------------------------------------------------\u001b[0m",
            "\u001b[0;31mTypeError\u001b[0m                                 Traceback (most recent call last)",
            "\u001b[0;32m/tmp/ipython-input-87-704146591.py\u001b[0m in \u001b[0;36m<cell line: 0>\u001b[0;34m()\u001b[0m\n\u001b[1;32m      1\u001b[0m \u001b[0;31m# If tensor is on GPU, can't transform it to NumPy (this will error)\u001b[0m\u001b[0;34m\u001b[0m\u001b[0;34m\u001b[0m\u001b[0m\n\u001b[0;32m----> 2\u001b[0;31m \u001b[0mtensor_on_gpu\u001b[0m\u001b[0;34m.\u001b[0m\u001b[0mnumpy\u001b[0m\u001b[0;34m(\u001b[0m\u001b[0;34m)\u001b[0m\u001b[0;34m\u001b[0m\u001b[0;34m\u001b[0m\u001b[0m\n\u001b[0m",
            "\u001b[0;31mTypeError\u001b[0m: can't convert cuda:0 device type tensor to numpy. Use Tensor.cpu() to copy the tensor to host memory first."
          ]
        }
      ]
    },
    {
      "cell_type": "code",
      "source": [
        "tensor.numpy()"
      ],
      "metadata": {
        "colab": {
          "base_uri": "https://localhost:8080/"
        },
        "id": "PJRRvEkSlAp2",
        "outputId": "a35b1dc9-5ffe-4803-df2b-b8f720539a74"
      },
      "execution_count": null,
      "outputs": [
        {
          "output_type": "execute_result",
          "data": {
            "text/plain": [
              "array([1, 2, 3])"
            ]
          },
          "metadata": {},
          "execution_count": 88
        }
      ]
    },
    {
      "cell_type": "markdown",
      "source": [
        "instead, to get a tensor back to CPU and usable with NumPy we can use Tensor.cpu().\n",
        "\n",
        "This copies the tensor to CPU memory so it's usable with CPUs."
      ],
      "metadata": {
        "id": "ExDyCp4go6R5"
      }
    },
    {
      "cell_type": "code",
      "source": [
        "# Instead, copy the tensor back to cpu\n",
        "tensor_back_on_cpu = tensor_on_gpu.cpu().numpy()\n",
        "print(tensor_back_on_cpu, tensor_back_on_cpu.dtype)"
      ],
      "metadata": {
        "colab": {
          "base_uri": "https://localhost:8080/"
        },
        "id": "ghAQ83--lAvC",
        "outputId": "828ff61f-20f2-4a5c-eb74-6533df940932"
      },
      "execution_count": null,
      "outputs": [
        {
          "output_type": "stream",
          "name": "stdout",
          "text": [
            "[1 2 3] int64\n"
          ]
        }
      ]
    },
    {
      "cell_type": "markdown",
      "source": [
        "Creation ops in PyTorch refer to a set of functions used to create tensors. These operations include constructing tensors with specific properties, such as initializing them with zeros, ones, or other values, or creating them from existing data"
      ],
      "metadata": {
        "id": "yk0B5K8EqTcu"
      }
    },
    {
      "cell_type": "code",
      "source": [
        "torch.rand(2,2)"
      ],
      "metadata": {
        "colab": {
          "base_uri": "https://localhost:8080/"
        },
        "id": "m6gUdn1ro97a",
        "outputId": "a6dc09fb-924c-4e7f-bb13-4750b13322c8"
      },
      "execution_count": null,
      "outputs": [
        {
          "output_type": "execute_result",
          "data": {
            "text/plain": [
              "tensor([[0.8513, 0.8549],\n",
              "        [0.5509, 0.2868]])"
            ]
          },
          "metadata": {},
          "execution_count": 90
        }
      ]
    },
    {
      "cell_type": "code",
      "source": [
        "torch.randn(2,2)"
      ],
      "metadata": {
        "colab": {
          "base_uri": "https://localhost:8080/"
        },
        "id": "Kdpf7iWco-BI",
        "outputId": "6570cafb-a35f-455c-f322-5d6d48627edf"
      },
      "execution_count": null,
      "outputs": [
        {
          "output_type": "execute_result",
          "data": {
            "text/plain": [
              "tensor([[-1.1913, -1.6518],\n",
              "        [-1.7177, -1.0074]])"
            ]
          },
          "metadata": {},
          "execution_count": 91
        }
      ]
    },
    {
      "cell_type": "markdown",
      "source": [
        "#Exercise"
      ],
      "metadata": {
        "id": "bQZQEFuZsl3e"
      }
    },
    {
      "cell_type": "markdown",
      "source": [
        "Create a random tensor with shape (7, 7).\n"
      ],
      "metadata": {
        "id": "qZ40mFzHstCu"
      }
    },
    {
      "cell_type": "code",
      "source": [
        "import torch\n",
        "t1 = torch.randn(7,7)\n",
        "t2 = torch.rand(1,7)\n",
        "t3 = t2.T\n",
        "mul = torch.matmul(t1,t3)\n",
        "print(f\"The tensor is {t1} and {t2}\")\n",
        "print(f\"The matrix multiplication is {mul}\")"
      ],
      "metadata": {
        "colab": {
          "base_uri": "https://localhost:8080/"
        },
        "id": "pzxKlIdgo-ES",
        "outputId": "c0697cec-9d3c-4285-ddd2-c84cd28030cb"
      },
      "execution_count": null,
      "outputs": [
        {
          "output_type": "stream",
          "name": "stdout",
          "text": [
            "The tensor is tensor([[ 0.7821,  1.0391, -0.7245, -0.8489, -1.2169, -0.0810,  1.3615],\n",
            "        [-1.3032,  0.6741, -1.3233, -1.3598, -0.8667, -0.5640, -2.0565],\n",
            "        [-0.3567,  1.0956, -0.6619, -0.8285, -0.6057, -0.1354,  0.7471],\n",
            "        [ 0.6118,  1.8678,  2.5116, -0.2501,  0.5011,  0.2600, -1.6370],\n",
            "        [ 0.1577,  0.3957, -1.3677, -0.1007, -1.0606, -0.5824, -0.6153],\n",
            "        [ 1.5496,  0.5989, -0.6377, -2.2858, -0.3677, -0.8822, -1.0370],\n",
            "        [ 0.5920, -0.7557,  0.3917,  0.7470,  1.3798,  1.2877,  0.8684]]) and tensor([[0.8099, 0.7743, 0.5278, 0.9356, 0.1470, 0.2019, 0.7259]])\n",
            "The matrix multiplication is tensor([[ 1.0545],\n",
            "        [-4.2381],\n",
            "        [-0.1390],\n",
            "        [ 1.9712],\n",
            "        [-1.1021],\n",
            "        [-1.7413],\n",
            "        [ 1.8931]])\n"
          ]
        }
      ]
    },
    {
      "cell_type": "code",
      "source": [
        "random_seed = 0\n",
        "torch.manual_seed(seed = random_seed)\n",
        "t1 = torch.rand(7,7)\n",
        "torch.manual_seed(seed = random_seed)\n",
        "t2 = torch.rand(1,7)\n",
        "print(f\"t1: {t1}\")\n",
        "print(f\"t2: {t2}\")\n",
        "\n",
        "t1==t2\n",
        "\n",
        "# the factor is size\n",
        "torch.device(\"cpu\")"
      ],
      "metadata": {
        "colab": {
          "base_uri": "https://localhost:8080/"
        },
        "id": "B8b87QElo-IX",
        "outputId": "5b18089d-e6ce-4300-9432-075124b03bcb"
      },
      "execution_count": null,
      "outputs": [
        {
          "output_type": "stream",
          "name": "stdout",
          "text": [
            "t1: tensor([[0.4963, 0.7682, 0.0885, 0.1320, 0.3074, 0.6341, 0.4901],\n",
            "        [0.8964, 0.4556, 0.6323, 0.3489, 0.4017, 0.0223, 0.1689],\n",
            "        [0.2939, 0.5185, 0.6977, 0.8000, 0.1610, 0.2823, 0.6816],\n",
            "        [0.9152, 0.3971, 0.8742, 0.4194, 0.5529, 0.9527, 0.0362],\n",
            "        [0.1852, 0.3734, 0.3051, 0.9320, 0.1759, 0.2698, 0.1507],\n",
            "        [0.0317, 0.2081, 0.9298, 0.7231, 0.7423, 0.5263, 0.2437],\n",
            "        [0.5846, 0.0332, 0.1387, 0.2422, 0.8155, 0.7932, 0.2783]])\n",
            "t2: tensor([[0.4963, 0.7682, 0.0885, 0.1320, 0.3074, 0.6341, 0.4901]])\n"
          ]
        },
        {
          "output_type": "execute_result",
          "data": {
            "text/plain": [
              "device(type='cpu')"
            ]
          },
          "metadata": {},
          "execution_count": 93
        }
      ]
    },
    {
      "cell_type": "markdown",
      "source": [
        "cuda = torch.device('cuda')     # Default CUDA device\n",
        "cuda0 = torch.device('cuda:0')\n",
        "cuda2 = torch.device('cuda:2')  # GPU 2 (these are 0-indexed)\n",
        "\n",
        "x = torch.tensor([1., 2.], device=cuda0)\n",
        "# x.device is device(type='cuda', index=0)\n",
        "y = torch.tensor([1., 2.]).cuda()\n",
        "# y.device is device(type='cuda', index=0)\n",
        "\n",
        "with torch.cuda.device(1):\n",
        "    # allocates a tensor on GPU 1\n",
        "    a = torch.tensor([1., 2.], device=cuda)\n",
        "\n",
        "    # transfers a tensor from CPU to GPU 1\n",
        "    b = torch.tensor([1., 2.]).cuda()\n",
        "    # a.device and b.device are device(type='cuda', index=1)\n",
        "\n",
        "    # You can also use ``Tensor.to`` to transfer a tensor:\n",
        "    b2 = torch.tensor([1., 2.]).to(device=cuda)\n",
        "    # b.device and b2.device are device(type='cuda', index=1)\n",
        "\n",
        "    c = a + b\n",
        "    # c.device is device(type='cuda', index=1)\n",
        "\n",
        "    z = x + y\n",
        "    # z.device is device(type='cuda', index=0)\n",
        "\n",
        "    # even within a context, you can specify the device\n",
        "    # (or give a GPU index to the .cuda call)\n",
        "    d = torch.randn(2, device=cuda2)\n",
        "    e = torch.randn(2).to(cuda2)\n",
        "    f = torch.randn(2).cuda(cuda2)\n",
        "    # d.device, e.device, and f.device are all device(type='cuda', index=2)"
      ],
      "metadata": {
        "id": "6sZhO5t3v93b"
      }
    },
    {
      "cell_type": "code",
      "source": [
        "torch.device(gpu)"
      ],
      "metadata": {
        "colab": {
          "base_uri": "https://localhost:8080/",
          "height": 141
        },
        "id": "xJ0WYZ37o-Lb",
        "outputId": "8b86abfb-cf39-4a62-f743-1803071e23d5"
      },
      "execution_count": null,
      "outputs": [
        {
          "output_type": "error",
          "ename": "NameError",
          "evalue": "name 'gpu' is not defined",
          "traceback": [
            "\u001b[0;31m---------------------------------------------------------------------------\u001b[0m",
            "\u001b[0;31mNameError\u001b[0m                                 Traceback (most recent call last)",
            "\u001b[0;32m/tmp/ipython-input-94-3881408238.py\u001b[0m in \u001b[0;36m<cell line: 0>\u001b[0;34m()\u001b[0m\n\u001b[0;32m----> 1\u001b[0;31m \u001b[0mtorch\u001b[0m\u001b[0;34m.\u001b[0m\u001b[0mdevice\u001b[0m\u001b[0;34m(\u001b[0m\u001b[0mgpu\u001b[0m\u001b[0;34m)\u001b[0m\u001b[0;34m\u001b[0m\u001b[0;34m\u001b[0m\u001b[0m\n\u001b[0m",
            "\u001b[0;31mNameError\u001b[0m: name 'gpu' is not defined"
          ]
        }
      ]
    },
    {
      "cell_type": "markdown",
      "source": [
        "Yes, there is a GPU equivalent to torch.manual_seed() in PyTorch, which is torch.cuda.manual_seed().\n",
        " This function sets the seed for generating random numbers for the current GPU. To set the GPU random seed to 1234, you can use the following code:"
      ],
      "metadata": {
        "id": "kRD1Yeee1lsi"
      }
    },
    {
      "cell_type": "markdown",
      "source": [
        "import torch\n",
        "\n",
        "# Set the GPU random seed\n",
        "torch.cuda.manual_seed(1234)\n",
        "\n",
        "we can use this cmd to make set the manual seed in the cuda"
      ],
      "metadata": {
        "id": "TNk3eFyQ38O4"
      }
    },
    {
      "cell_type": "code",
      "source": [
        "import torch\n",
        "torch.manual_seed( 1234 )\n",
        "t1 = torch.rand(2,3,device = 'cuda')\n",
        "torch.manual_seed( 1234 )\n",
        "t2 = torch.rand(2,3, device = 'cuda')\n",
        "print(f\"t1: {t1}\")\n",
        "print(f\"t2: {t2}\")"
      ],
      "metadata": {
        "colab": {
          "base_uri": "https://localhost:8080/"
        },
        "id": "ii6qHjKIo-OV",
        "outputId": "84e096f4-792c-40a9-a8c7-c49c04bea21b"
      },
      "execution_count": null,
      "outputs": [
        {
          "output_type": "stream",
          "name": "stdout",
          "text": [
            "t1: tensor([[0.1272, 0.8167, 0.5440],\n",
            "        [0.6601, 0.2721, 0.9737]], device='cuda:0')\n",
            "t2: tensor([[0.1272, 0.8167, 0.5440],\n",
            "        [0.6601, 0.2721, 0.9737]], device='cuda:0')\n"
          ]
        }
      ]
    },
    {
      "cell_type": "code",
      "source": [
        "# here we have to take the transpose of one of the tensors\n",
        "t3 = torch.matmul(t1,t2.T)\n",
        "t3"
      ],
      "metadata": {
        "colab": {
          "base_uri": "https://localhost:8080/"
        },
        "id": "_zpyMFRV4Yu3",
        "outputId": "4be82bfe-3686-4d4e-f188-afb44a18d772"
      },
      "execution_count": null,
      "outputs": [
        {
          "output_type": "execute_result",
          "data": {
            "text/plain": [
              "tensor([[0.9792, 0.8358],\n",
              "        [0.8358, 1.4578]], device='cuda:0')"
            ]
          },
          "metadata": {},
          "execution_count": 96
        }
      ]
    },
    {
      "cell_type": "code",
      "source": [
        "t3.max(), t3.min()"
      ],
      "metadata": {
        "colab": {
          "base_uri": "https://localhost:8080/"
        },
        "id": "SpDkIRKo4YyG",
        "outputId": "f82c3b14-24dc-4d81-bd22-14470b2e8263"
      },
      "execution_count": null,
      "outputs": [
        {
          "output_type": "execute_result",
          "data": {
            "text/plain": [
              "(tensor(1.4578, device='cuda:0'), tensor(0.8358, device='cuda:0'))"
            ]
          },
          "metadata": {},
          "execution_count": 97
        }
      ]
    },
    {
      "cell_type": "code",
      "source": [
        "t3.argmax(),t3.argmin()"
      ],
      "metadata": {
        "colab": {
          "base_uri": "https://localhost:8080/"
        },
        "id": "MsSDbxxz4Y1b",
        "outputId": "24aea11d-96b8-43e1-c93f-fd3ece3188f0"
      },
      "execution_count": null,
      "outputs": [
        {
          "output_type": "execute_result",
          "data": {
            "text/plain": [
              "(tensor(3, device='cuda:0'), tensor(1, device='cuda:0'))"
            ]
          },
          "metadata": {},
          "execution_count": 98
        }
      ]
    },
    {
      "cell_type": "code",
      "source": [
        "t4 = torch.randn(size= (1,1,1,10))\n",
        "t4"
      ],
      "metadata": {
        "colab": {
          "base_uri": "https://localhost:8080/"
        },
        "id": "aWoj7LC14Y5_",
        "outputId": "84283429-96cd-4544-e85e-091445e9703e"
      },
      "execution_count": null,
      "outputs": [
        {
          "output_type": "execute_result",
          "data": {
            "text/plain": [
              "tensor([[[[ 0.0461,  0.4024, -1.0115,  0.2167, -0.6123,  0.5036,  0.2310,\n",
              "            0.6931, -0.2669,  2.1785]]]])"
            ]
          },
          "metadata": {},
          "execution_count": 99
        }
      ]
    },
    {
      "cell_type": "code",
      "source": [
        "# all the dimensions got removed except the last one the squeeze will squeeze the tensor to one dimension\n",
        "torch.manual_seed(7)\n",
        "t5 = t4.squeeze()\n",
        "print(f\"t4: {t4}\")\n",
        "print(f\"t4 shape: {t4.shape}\")\n",
        "print(f\"t5: {t5}\")\n",
        "print(f\"t5 shape: {t5.shape}\")"
      ],
      "metadata": {
        "colab": {
          "base_uri": "https://localhost:8080/"
        },
        "id": "kJq6uckX4Y9K",
        "outputId": "c312560d-50ce-4a79-d129-b1e402912c50"
      },
      "execution_count": null,
      "outputs": [
        {
          "output_type": "stream",
          "name": "stdout",
          "text": [
            "t4: tensor([[[[ 0.0461,  0.4024, -1.0115,  0.2167, -0.6123,  0.5036,  0.2310,\n",
            "            0.6931, -0.2669,  2.1785]]]])\n",
            "t4 shape: torch.Size([1, 1, 1, 10])\n",
            "t5: tensor([ 0.0461,  0.4024, -1.0115,  0.2167, -0.6123,  0.5036,  0.2310,  0.6931,\n",
            "        -0.2669,  2.1785])\n",
            "t5 shape: torch.Size([10])\n"
          ]
        }
      ]
    },
    {
      "cell_type": "markdown",
      "source": [
        "Joining tensors You can use torch.cat to concatenate a sequence of tensors along a given dimension. See also torch.stack, another tensor joining op that is subtly different from torch.cat"
      ],
      "metadata": {
        "id": "J4g3g6LZARsb"
      }
    },
    {
      "cell_type": "code",
      "source": [
        "t1 = torch.cat([t1, t1, t1], dim=1)\n",
        "print(t1)"
      ],
      "metadata": {
        "colab": {
          "base_uri": "https://localhost:8080/"
        },
        "id": "Wc1rvpLk4ZAc",
        "outputId": "9cb021a3-416e-44f7-b986-a081ba84ac9a"
      },
      "execution_count": null,
      "outputs": [
        {
          "output_type": "stream",
          "name": "stdout",
          "text": [
            "tensor([[0.1272, 0.8167, 0.5440, 0.1272, 0.8167, 0.5440, 0.1272, 0.8167, 0.5440],\n",
            "        [0.6601, 0.2721, 0.9737, 0.6601, 0.2721, 0.9737, 0.6601, 0.2721, 0.9737]],\n",
            "       device='cuda:0')\n"
          ]
        }
      ]
    },
    {
      "cell_type": "code",
      "source": [
        "y3 = torch.rand_like(t1)\n",
        "y3"
      ],
      "metadata": {
        "colab": {
          "base_uri": "https://localhost:8080/"
        },
        "id": "TqrrwDVe4ZDh",
        "outputId": "d8d442c0-9805-4aad-e39c-4c0dfb390be1"
      },
      "execution_count": null,
      "outputs": [
        {
          "output_type": "execute_result",
          "data": {
            "text/plain": [
              "tensor([[0.9546, 0.4950, 0.9420, 0.5926, 0.6996, 0.2087, 0.6753, 0.4810, 0.6333],\n",
              "        [0.5733, 0.9122, 0.7207, 0.7537, 0.4292, 0.4768, 0.5984, 0.8918, 0.3207]],\n",
              "       device='cuda:0')"
            ]
          },
          "metadata": {},
          "execution_count": 102
        }
      ]
    },
    {
      "cell_type": "markdown",
      "source": [
        "the quickstart for loading a dataset"
      ],
      "metadata": {
        "id": "1qVjMBDrCxHw"
      }
    },
    {
      "cell_type": "markdown",
      "source": [
        "# Datasets & DataLoaders\n",
        "\n",
        "Code for processing data samples can get messy and hard to maintain; we ideally want our dataset code to be decoupled from our model training code for better readability and modularity. PyTorch provides two data primitives: torch.utils.data.DataLoader and torch.utils.data.Dataset that allow you to use pre-loaded datasets as well as your own data. Dataset stores the samples and their corresponding labels, and DataLoader wraps an iterable around the Dataset to enable easy access to the samples.\n",
        "\n",
        "PyTorch domain libraries provide a number of pre-loaded datasets (such as FashionMNIST) that subclass torch.utils.data.Dataset and implement functions specific to the particular data. They can be used to prototype and benchmark your model. You can find them here: Image Datasets, Text Datasets, and Audio Datasets\n",
        "\n",
        "\n",
        "# Loading a Dataset\n",
        "\n",
        "Here is an example of how to load the Fashion-MNIST dataset from TorchVision. Fashion-MNIST is a dataset of Zalando’s article images consisting of 60,000 training examples and 10,000 test examples. Each example comprises a 28×28 grayscale image and an associated label from one of 10 classes.\n",
        "\n",
        "We load the FashionMNIST Dataset with the following parameters:\n",
        "root is the path where the train/test data is stored,\n",
        "\n",
        "train specifies training or test dataset,\n",
        "\n",
        "download=True downloads the data from the internet if it’s not available at root.\n",
        "\n",
        "transform and target_transform specify the feature and label transformations"
      ],
      "metadata": {
        "id": "02fxXW0bDHOv"
      }
    },
    {
      "cell_type": "code",
      "source": [
        "import torch\n",
        "from torch.utils.data import Dataset\n",
        "from torchvision import datasets\n",
        "from torchvision.transforms import ToTensor\n",
        "import matplotlib.pyplot as plt\n",
        "\n",
        "\n",
        "training_data = datasets.FashionMNIST(\n",
        "    root=\"data\",\n",
        "    train=True,\n",
        "    download=True,\n",
        "    transform=ToTensor()\n",
        ")\n",
        "\n",
        "test_data = datasets.FashionMNIST(\n",
        "    root=\"data\",\n",
        "    train=False,\n",
        "    download=True,\n",
        "    transform=ToTensor()\n",
        ")"
      ],
      "metadata": {
        "id": "XiMu_8PQApCu"
      },
      "execution_count": null,
      "outputs": []
    },
    {
      "cell_type": "markdown",
      "source": [
        "1. from torch.utils.data import Dataset\n",
        "Purpose: This imports the base Dataset class from PyTorch.\n",
        "Use: You inherit from this class to create your custom datasets.\n",
        "Example:\n",
        "from torch.utils.data import Dataset\n",
        "\n",
        "class CustomDataset(Dataset):\n",
        "    def __init__(self, data, targets, transform=None):\n",
        "        self.data = data\n",
        "        self.targets = targets\n",
        "        self.transform = transform\n",
        "\n",
        "    def __len__(self):\n",
        "        return len(self.data)\n",
        "\n",
        "    def __getitem__(self, idx):\n",
        "        sample = self.data[idx]\n",
        "        target = self.targets[idx]\n",
        "        if self.transform:\n",
        "            sample = self.transform(sample)\n",
        "        return sample, target\n",
        "2. from torchvision import datasets\n",
        "Purpose: This provides access to a number of built-in datasets (like CIFAR-10, MNIST, ImageNet, etc.) that are ready to use.\n",
        "Use: You can directly load standard datasets without needing to write your own loading logic.\n",
        "Example:\n",
        "from torchvision import datasets\n",
        "\n",
        "training_data = datasets.MNIST(\n",
        "    root=\"data\",\n",
        "    train=True,\n",
        "    download=True,\n",
        "    transform=ToTensor()\n",
        ")\n",
        "3. from torchvision.transforms import ToTensor\n",
        "Purpose: This converts a PIL image or NumPy array into a PyTorch tensor.\n",
        "Use: It's commonly used as part of the preprocessing step to convert image data into a format compatible with PyTorch models.\n",
        "It also scales pixel values from [0, 255] to [0.0, 1.0].\n",
        "Example:\n",
        "from torchvision.transforms import ToTensor\n",
        "\n",
        "transform = ToTensor()\n",
        "tensor_image = transform(pil_image)  # Converts PIL image to tensor"
      ],
      "metadata": {
        "id": "c7jXVWqRElts"
      }
    },
    {
      "cell_type": "code",
      "source": [
        "labels_map = {\n",
        "    0: \"T-Shirt\",\n",
        "    1: \"Trouser\",\n",
        "    2: \"Pullover\",\n",
        "    3: \"Dress\",\n",
        "    4: \"Coat\",\n",
        "    5: \"Sandal\",\n",
        "    6: \"Shirt\",\n",
        "    7: \"Sneaker\",\n",
        "    8: \"Bag\",\n",
        "    9: \"Ankle Boot\",\n",
        "}\n",
        "figure = plt.figure(figsize=(8, 8))\n",
        "cols, rows = 3, 3\n",
        "for i in range(1, cols * rows + 1):\n",
        "    sample_idx = torch.randint(len(training_data), size=(1,)).item()\n",
        "    img, label = training_data[sample_idx]\n",
        "    figure.add_subplot(rows, cols, i)\n",
        "    plt.title(labels_map[label])\n",
        "    plt.axis(\"off\")\n",
        "    plt.imshow(img.squeeze(), cmap=\"gray\")\n",
        "plt.show()"
      ],
      "metadata": {
        "colab": {
          "base_uri": "https://localhost:8080/",
          "height": 675
        },
        "id": "WWGtcLNmAo4o",
        "outputId": "2c58da0f-a16b-40be-bb37-6f14d528b1d8"
      },
      "execution_count": null,
      "outputs": [
        {
          "output_type": "display_data",
          "data": {
            "text/plain": [
              "<Figure size 800x800 with 9 Axes>"
            ],
            "image/png": "[encoded data removed]"
          },
          "metadata": {}
        }
      ]
    }
  ]
}